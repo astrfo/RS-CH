{
  "nbformat": 4,
  "nbformat_minor": 0,
  "metadata": {
    "colab": {
      "name": "RS.ipynb",
      "provenance": [],
      "collapsed_sections": [],
      "authorship_tag": "ABX9TyM918mAogCUUQ5VNmA8sauN",
      "include_colab_link": true
    },
    "kernelspec": {
      "name": "python3",
      "display_name": "Python 3"
    },
    "language_info": {
      "name": "python"
    }
  },
  "cells": [
    {
      "cell_type": "markdown",
      "metadata": {
        "id": "view-in-github",
        "colab_type": "text"
      },
      "source": [
        "<a href=\"https://colab.research.google.com/github/astrfo/RS_init/blob/main/RS.ipynb\" target=\"_parent\"><img src=\"https://colab.research.google.com/assets/colab-badge.svg\" alt=\"Open In Colab\"/></a>"
      ]
    },
    {
      "cell_type": "markdown",
      "metadata": {
        "id": "R3JxaIZcWn5q"
      },
      "source": [
        "# RS 実装\n",
        "\n",
        "[満足化を通じた最適な自律的探索] https://www.jstage.jst.go.jp/article/pjsai/JSAI2018/0/JSAI2018_1Z304/_article/-char/ja/\n",
        "\n",
        "[論文要約] https://colab.research.google.com/drive/199SxVBGDdkuzSzU9pjVP9BfMPzaypLfj#scrollTo=UUSaBpguVsBB\n",
        "\n",
        "\n"
      ]
    },
    {
      "cell_type": "code",
      "metadata": {
        "id": "v_xANSNHO5YD"
      },
      "source": [
        "import sys\n",
        "import numpy as np\n",
        "import random\n",
        "import matplotlib.pyplot as plt\n",
        "%matplotlib inline"
      ],
      "execution_count": 60,
      "outputs": []
    },
    {
      "cell_type": "code",
      "metadata": {
        "id": "guDY-K_7O_cO"
      },
      "source": [
        "class Environment(object):\n",
        "    \"\"\"\n",
        "    K本の各腕の確率を生成\n",
        "    当たりかハズレかを返す\n",
        "    \"\"\"\n",
        "\n",
        "    def __init__(self, K):\n",
        "        self._K = K\n",
        "        self.prob = np.array([np.random.rand() for _ in range(K)])   #一様分布からサンプリング\n",
        "        print(f'prob: {self.prob}')\n",
        "\n",
        "    def play(self, arm):\n",
        "        if self.prob[arm] > random.random():\n",
        "            return 1.0\n",
        "        else:\n",
        "            return 0.0"
      ],
      "execution_count": 61,
      "outputs": []
    },
    {
      "cell_type": "code",
      "metadata": {
        "id": "xZifVrjoPCTa"
      },
      "source": [
        "class RSAgent(object):\n",
        "    \"\"\"\n",
        "    経験期待値の更新\n",
        "    RS価値関数の定義、更新\n",
        "    基準値alephの更新\n",
        "    RS-greedy選択肢を試行する\n",
        "    \"\"\"\n",
        "\n",
        "    def __init__(self, K):\n",
        "        self._K = K\n",
        "        self._alpha = None\n",
        "        self._V = None\n",
        "        self._n = None\n",
        "        self._N = None\n",
        "        self.RS = None\n",
        "        self.aleph = 0.5        #必ず非満足状態になるように\n",
        "\n",
        "    def initialize(self):\n",
        "        self._V = np.array([0.5] * self._K)     #Vの初期値は0.5\n",
        "        self._n = np.array([1e-8] * self._K)      #RS式でゼロ除算を防ぐため, sys.float_info.minでエラーになる可能性がある\n",
        "        self._N = 0     #総試行回数\n",
        "        self.RS = np.zeros(self._K)     #?. RSの初期値はゼロ？？ a.多分ゼロで良い気がする\n",
        "        # self._alpha = np.zeros(self._K)     #?. alphaは各腕n(a_i)によって分けるべきなのか？ a.多分そんなことしなくていい。\n",
        "\n",
        "    def update(self, arm, reward):\n",
        "        self._alpha = 1 / (1 + self._n[arm])\n",
        "        self._V[arm] = (1 - self._alpha) * self._V[arm] + self._alpha * reward\n",
        "        self._n[arm] += 1       #?. n(a_i)+=1の処理を先に行わないとハズレの場合、初期値V(a_i)=0.5が更新されてゼロになるので良くないのでは？　a.別にこれも関係ないかも\n",
        "        self._N += 1\n",
        "        self.RS[arm] = (self._n[arm] / self._N) * (self._V[arm] - self.aleph)     #RS評価値の更新(これは後で分ける？)\n",
        "\n",
        "    def update_aleph(self):\n",
        "        #2本腕を想定\n",
        "        max_V = np.amax(self._V)\n",
        "        G = random.choice(np.where(self._V == max_V)[0])       #複数あった場合エラー吐く  a.多分解決した？\n",
        "        if G == 0: j = 1     #このコードは直せ G:(maxIndex), j:(NotMaxIndex)\n",
        "        else: j = 0\n",
        "        mu = self._n[j]/self._n[G]\n",
        "        upper = 1 - (self._V[j]/self._V[G]) * mu    #腕の確率が小さいと V(a_G) = V(a_j) = 0 でエラーになる可能性がある(一度も当たらない(かなりレアケース))\n",
        "        lower = 1 - mu\n",
        "        self.aleph = max_V * upper / lower      #step数が小さいと upper = lower になる可能性がある\n",
        "\n",
        "    def select_arm(self):\n",
        "        maxRS = np.amax(self.RS)        #ここの処理は違うメソッドに(後で書き換えて)\n",
        "        # print(f'maxRS: {maxRS}')\n",
        "        maxIndex = np.where(self.RS == maxRS)[0]\n",
        "        return random.choice(maxIndex)"
      ],
      "execution_count": 62,
      "outputs": []
    },
    {
      "cell_type": "code",
      "metadata": {
        "id": "KIZhZYcUllNa"
      },
      "source": [
        "class Simulator(object):\n",
        "    \"\"\"\n",
        "    シミュレーションを行う\n",
        "    regretの計算\n",
        "    regret,stepsをplot\n",
        "    \"\"\"\n",
        "    \n",
        "    def __init__(self, trial, step, K):\n",
        "        self._agent = RSAgent(K)\n",
        "        self._env = None\n",
        "        self._prob = None\n",
        "        self._trial = trial\n",
        "        self._step = step\n",
        "        self._regret = np.zeros((trial, step))\n",
        "\n",
        "    def run(self):\n",
        "        for t in range(self._trial):\n",
        "            self._env = Environment(K)      #腕の確率を生成\n",
        "            self._prob = self._env.prob\n",
        "            self._agent.initialize()\n",
        "            print(f'{t}: aleph={self._agent.aleph}')\n",
        "            for s in range(self._step):\n",
        "                arm = self._agent.select_arm()\n",
        "                reward = self._env.play(arm)\n",
        "                self._agent.update(arm, reward)\n",
        "                self.calc_regret(t, s, arm)\n",
        "            self._agent.update_aleph()\n",
        "            print(f'RS: {self._agent.RS}')\n",
        "            print()\n",
        "        self.print_regret()\n",
        "\n",
        "    def calc_regret(self, t, s, arm):\n",
        "        # print(f'max: {np.amax(self._prob)}, select: {self._prob[arm]}')\n",
        "        self._regret[t][s] += np.amax(self._prob) - self._prob[arm]\n",
        "        if s != 0: self._regret[t][s] += self._regret[t][s-1]\n",
        "\n",
        "    def print_regret(self):\n",
        "        plt.plot(np.arange(self._step), np.mean(self._regret, axis=0), label='RS', linestyle='dashed')\n",
        "        plt.xlabel('steps')\n",
        "        plt.ylabel('regret')\n",
        "        plt.legend()\n",
        "        plt.show()"
      ],
      "execution_count": 63,
      "outputs": []
    },
    {
      "cell_type": "code",
      "metadata": {
        "colab": {
          "base_uri": "https://localhost:8080/",
          "height": 959
        },
        "id": "dKE34olTSZ-n",
        "outputId": "26db5cfc-e438-4588-a9f0-f9ec05b7955d"
      },
      "source": [
        "trial = 10\n",
        "step = 1000      #step数が少ないと n(a_G)=n(a_j) になりaleph更新式がゼロ除算を行ってエラーになる可能性がある\n",
        "K = 2\n",
        "sim = Simulator(trial, step, K)\n",
        "sim.run()"
      ],
      "execution_count": 64,
      "outputs": [
        {
          "output_type": "stream",
          "name": "stdout",
          "text": [
            "prob: [0.65593257 0.08561106]\n",
            "0: aleph=0.5\n",
            "RS: [ 0.1525 -0.5   ]\n",
            "\n",
            "prob: [0.56761096 0.91272472]\n",
            "1: aleph=0.6533066132264519\n",
            "RS: [-0.15330661  0.256     ]\n",
            "\n",
            "prob: [0.40219406 0.13499602]\n",
            "2: aleph=0.9106425702811244\n",
            "RS: [-0.91064257 -0.77773193]\n",
            "\n",
            "prob: [0.22019507 0.84746754]\n",
            "3: aleph=0.1322645290581164\n",
            "RS: [-0.13226453  0.70086774]\n",
            "\n",
            "prob: [0.59871661 0.5260852 ]\n",
            "4: aleph=0.8346693386773543\n",
            "RS: [-0.16548697 -0.16740338]\n",
            "\n",
            "prob: [0.42986958 0.21079399]\n",
            "5: aleph=0.622807017543861\n",
            "RS: [-0.62280702 -0.43418421]\n",
            "\n",
            "prob: [0.30516162 0.34190293]\n",
            "6: aleph=0.1883767535070139\n",
            "RS: [0.         0.16962325]\n",
            "\n",
            "prob: [0.6152137  0.89664902]\n",
            "7: aleph=0.3580000000000004\n",
            "RS: [0.    0.541]\n",
            "\n",
            "prob: [0.76226506 0.15419075]\n",
            "8: aleph=0.8990000000000002\n",
            "RS: [-0.138101 -0.899   ]\n",
            "\n",
            "prob: [0.11908997 0.29242033]\n",
            "9: aleph=0.7615230460921846\n",
            "RS: [-0.76152305 -0.47276152]\n",
            "\n"
          ]
        },
        {
          "output_type": "display_data",
          "data": {
            "image/png": "[encoded data removed]",
            "text/plain": [
              "<Figure size 432x288 with 1 Axes>"
            ]
          },
          "metadata": {
            "needs_background": "light"
          }
        }
      ]
    }
  ]
}