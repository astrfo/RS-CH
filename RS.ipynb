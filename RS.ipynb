{
  "nbformat": 4,
  "nbformat_minor": 0,
  "metadata": {
    "colab": {
      "name": "RS.ipynb",
      "provenance": [],
      "collapsed_sections": [],
      "authorship_tag": "ABX9TyO2D+X+hYWFkpcjlLIcmXWY",
      "include_colab_link": true
    },
    "kernelspec": {
      "name": "python3",
      "display_name": "Python 3"
    },
    "language_info": {
      "name": "python"
    }
  },
  "cells": [
    {
      "cell_type": "markdown",
      "metadata": {
        "id": "view-in-github",
        "colab_type": "text"
      },
      "source": [
        "<a href=\"https://colab.research.google.com/github/astrfo/RS_init/blob/main/RS.ipynb\" target=\"_parent\"><img src=\"https://colab.research.google.com/assets/colab-badge.svg\" alt=\"Open In Colab\"/></a>"
      ]
    },
    {
      "cell_type": "markdown",
      "metadata": {
        "id": "R3JxaIZcWn5q"
      },
      "source": [
        "# RS 実装\n",
        "\n",
        "[満足化を通じた最適な自律的探索] https://www.jstage.jst.go.jp/article/pjsai/JSAI2018/0/JSAI2018_1Z304/_article/-char/ja/\n",
        "\n",
        "[論文要約] https://colab.research.google.com/drive/199SxVBGDdkuzSzU9pjVP9BfMPzaypLfj#scrollTo=UUSaBpguVsBB\n",
        "\n",
        "\n"
      ]
    },
    {
      "cell_type": "code",
      "metadata": {
        "id": "v_xANSNHO5YD"
      },
      "source": [
        "import sys\n",
        "import numpy as np\n",
        "import random\n",
        "import matplotlib.pyplot as plt\n",
        "%matplotlib inline"
      ],
      "execution_count": 195,
      "outputs": []
    },
    {
      "cell_type": "code",
      "metadata": {
        "id": "guDY-K_7O_cO"
      },
      "source": [
        "class Environment(object):\n",
        "\n",
        "    def __init__(self, K):\n",
        "        self._K = K\n",
        "        self.prob = [np.random.rand() for _ in range(K)]   #一様分布からサンプリング\n",
        "        # print(f'{self.prob}')\n",
        "\n",
        "    def play(self, arm):\n",
        "        if self.prob[arm] > random.random():\n",
        "            return 1\n",
        "        else:\n",
        "            return 0"
      ],
      "execution_count": 196,
      "outputs": []
    },
    {
      "cell_type": "code",
      "metadata": {
        "id": "xZifVrjoPCTa"
      },
      "source": [
        "class Agent(object):\n",
        "\n",
        "    def __init__(self, K):\n",
        "        self._K = K\n",
        "        self._alpha = None\n",
        "        self._V = None\n",
        "        self._n = None\n",
        "        self._N = None\n",
        "        self.RS = None\n",
        "        self.aleph = 1.0        #必ず非満足状態になるように\n",
        "\n",
        "    def initialize(self):\n",
        "        self._V = np.array([0.5] * self._K)\n",
        "        self._n = np.array([sys.float_info.min] * self._K)      #RS式でゼロ除算を防ぐため\n",
        "        self._N = 0\n",
        "        self.RS = np.zeros(self._K)     #RSの初期値はゼロ？？\n",
        "\n",
        "    def update(self, arm, reward):\n",
        "        self._alpha = 1 / (1 + self._n[arm])\n",
        "        self._V[arm] = (1 - self._alpha) * self._V[arm] + self._alpha * reward\n",
        "        self._n[arm] += 1\n",
        "        self._N += 1\n",
        "        self.RS[arm] = self._n[arm] / self._N * (self._V[arm] - self.aleph)     #RS評価値の更新(これは後で分ける？)\n",
        "\n",
        "    def update_aleph(self):\n",
        "        #2本腕を想定\n",
        "        max_V = np.amax(self._V)\n",
        "        mI = np.where(self._V == max_V)[0]\n",
        "        nmI = np.where(self._V != max_V)[0]\n",
        "        self.aleph = max_V * (1 - (self._V[nmI]/self._V[mI]) * (self._n[nmI]/self._n[mI])) / (1 - self._n[nmI]/self._n[mI])\n",
        "        # print(f'aleph: {self.aleph}')\n",
        "\n",
        "    def select_arm(self):\n",
        "        maxRS = np.amax(self.RS)\n",
        "        maxIndex = np.where(self.RS == maxRS)[0]\n",
        "        return random.choice(maxIndex)"
      ],
      "execution_count": 197,
      "outputs": []
    },
    {
      "cell_type": "code",
      "metadata": {
        "id": "KIZhZYcUllNa"
      },
      "source": [
        "class Simulator(object):\n",
        "    \n",
        "    def __init__(self, trial, step, K):\n",
        "        self._agent = Agent(K)\n",
        "        self._env = None\n",
        "        self._prob = None\n",
        "        self._trial = trial\n",
        "        self._step = step\n",
        "        self._regret = np.zeros((trial, step))\n",
        "\n",
        "    def run(self):\n",
        "        for t in range(self._trial):\n",
        "            print(f'{t}:')\n",
        "            self._env = Environment(K)\n",
        "            self._prob = self._env.prob\n",
        "            self._agent.initialize()\n",
        "            for s in range(self._step):\n",
        "                arm = self._agent.select_arm()\n",
        "                reward = self._env.play(arm)\n",
        "                self._agent.update(arm, reward)\n",
        "                # print(f'arm: {arm}, reward: {reward}')\n",
        "                self.calc_regret(t, s, arm)\n",
        "            # print(f'{self._agent.RS}')\n",
        "            self._agent.update_aleph()\n",
        "        self.print_regret()\n",
        "\n",
        "    def calc_regret(self, t, s, arm):\n",
        "        self._regret[t][s] += max(self._prob) - self._prob[arm]\n",
        "        if s != 0: self._regret[t][s] += self._regret[t][s-1]\n",
        "\n",
        "    def print_regret(self):\n",
        "        plt.plot(np.arange(self._step), np.mean(self._regret, axis=0), label='RS', linestyle='dashed')\n",
        "        plt.xlabel('steps')\n",
        "        plt.ylabel('regret')\n",
        "        plt.legend()\n",
        "        plt.show()"
      ],
      "execution_count": 200,
      "outputs": []
    },
    {
      "cell_type": "code",
      "metadata": {
        "colab": {
          "base_uri": "https://localhost:8080/",
          "height": 619
        },
        "id": "dKE34olTSZ-n",
        "outputId": "0b9863fc-2499-466e-cead-b4cde2c76da5"
      },
      "source": [
        "trial = 20\n",
        "step = 10000\n",
        "K = 2\n",
        "sim = Simulator(trial, step, K)\n",
        "sim.run()"
      ],
      "execution_count": 202,
      "outputs": [
        {
          "output_type": "stream",
          "name": "stdout",
          "text": [
            "0:\n",
            "1:\n",
            "2:\n",
            "3:\n",
            "4:\n",
            "5:\n",
            "6:\n",
            "7:\n",
            "8:\n",
            "9:\n",
            "10:\n",
            "11:\n",
            "12:\n",
            "13:\n",
            "14:\n",
            "15:\n",
            "16:\n",
            "17:\n",
            "18:\n",
            "19:\n"
          ]
        },
        {
          "output_type": "display_data",
          "data": {
            "image/png": "[encoded data removed]",
            "text/plain": [
              "<Figure size 432x288 with 1 Axes>"
            ]
          },
          "metadata": {
            "needs_background": "light"
          }
        }
      ]
    },
    {
      "cell_type": "code",
      "metadata": {
        "id": "RdTme1MoVrw8"
      },
      "source": [
        "a = np.array([1,4,7,2,5])\n",
        "print(np.where(a == 2))\n",
        "print(np.amax(a))"
      ],
      "execution_count": null,
      "outputs": []
    },
    {
      "cell_type": "code",
      "metadata": {
        "id": "ykCTdVCqVr1Q"
      },
      "source": [
        ""
      ],
      "execution_count": null,
      "outputs": []
    },
    {
      "cell_type": "code",
      "metadata": {
        "id": "M9Z5ZK96Vr5b"
      },
      "source": [
        ""
      ],
      "execution_count": null,
      "outputs": []
    },
    {
      "cell_type": "code",
      "metadata": {
        "id": "QMQiZ_ObVr9H"
      },
      "source": [
        "a = np.arange(10)\n",
        "random.choice(a)"
      ],
      "execution_count": null,
      "outputs": []
    },
    {
      "cell_type": "code",
      "metadata": {
        "id": "M-LLhNV1Qbz6"
      },
      "source": [
        "K = 20\n",
        "arm_prob = np.array([np.random.rand() for _ in range(K)])\n",
        "arm_prob"
      ],
      "execution_count": null,
      "outputs": []
    },
    {
      "cell_type": "code",
      "metadata": {
        "id": "ShX99o5eSY_m"
      },
      "source": [
        "sys.float_info.min + 1"
      ],
      "execution_count": null,
      "outputs": []
    }
  ]
}