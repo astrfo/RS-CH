{
  "nbformat": 4,
  "nbformat_minor": 0,
  "metadata": {
    "colab": {
      "name": "RS.ipynb",
      "provenance": [],
      "collapsed_sections": [],
      "authorship_tag": "ABX9TyOjMYs6wM82FgDxzXBtG1AU",
      "include_colab_link": true
    },
    "kernelspec": {
      "name": "python3",
      "display_name": "Python 3"
    },
    "language_info": {
      "name": "python"
    }
  },
  "cells": [
    {
      "cell_type": "markdown",
      "metadata": {
        "id": "view-in-github",
        "colab_type": "text"
      },
      "source": [
        "<a href=\"https://colab.research.google.com/github/astrfo/RS_init/blob/main/RS.ipynb\" target=\"_parent\"><img src=\"https://colab.research.google.com/assets/colab-badge.svg\" alt=\"Open In Colab\"/></a>"
      ]
    },
    {
      "cell_type": "markdown",
      "metadata": {
        "id": "R3JxaIZcWn5q"
      },
      "source": [
        "# RS 実装\n",
        "\n",
        "[満足化を通じた最適な自律的探索] https://www.jstage.jst.go.jp/article/pjsai/JSAI2018/0/JSAI2018_1Z304/_article/-char/ja/\n",
        "\n",
        "[論文要約] https://github.com/astrfo/AutonomousOptimalExplorationThroughSatisficing/blob/main/AutonomousOptimalExplorationThroughSatisficing.ipynb\n",
        "\n",
        "\n"
      ]
    },
    {
      "cell_type": "code",
      "metadata": {
        "id": "v_xANSNHO5YD"
      },
      "source": [
        "import sys\n",
        "import numpy as np\n",
        "import random\n",
        "import matplotlib.pyplot as plt\n",
        "%matplotlib inline"
      ],
      "execution_count": 28,
      "outputs": []
    },
    {
      "cell_type": "code",
      "metadata": {
        "id": "guDY-K_7O_cO"
      },
      "source": [
        "class Environment(object):\n",
        "    \"\"\"\n",
        "    K本の各腕の確率を生成\n",
        "    当たりかハズレかを返す\n",
        "    \"\"\"\n",
        "\n",
        "    def __init__(self, K):\n",
        "        self._K = K\n",
        "        self.prob = np.array([np.random.rand() for _ in range(K)])\n",
        "        # print(f'prob: {self.prob}')\n",
        "\n",
        "    def play(self, arm):\n",
        "        if self.prob[arm] > np.random.rand():\n",
        "            return 1\n",
        "        else:\n",
        "            return 0"
      ],
      "execution_count": 29,
      "outputs": []
    },
    {
      "cell_type": "code",
      "metadata": {
        "id": "pOKD5Dr-TLio"
      },
      "source": [
        "class Policy(object):\n",
        "    \"\"\"\n",
        "    各方策の実行\n",
        "    \"\"\"\n",
        "\n",
        "    def __init__(self, policy):\n",
        "        if 'RS' == policy:\n",
        "            self.act_policy = self.rsFunc\n",
        "        if 'e_greedy' == policy:\n",
        "            self._epsilon = 0.5\n",
        "            self.act_policy = self.e_greedy\n",
        "        if 'random' == policy:\n",
        "            self.act_policy = self.random_\n",
        "\n",
        "\n",
        "    def rsFunc(self, _, RS):        #直せ\n",
        "        return np.argmax(RS)\n",
        "\n",
        "    def e_greedy(self, V, _):\n",
        "        if self._epsilon < np.random.rand():\n",
        "            return np.random.choice(np.where(V == V.max())[0])\n",
        "        else:\n",
        "            return np.random.randint(len(V))\n",
        "\n",
        "    def random_(self, V, _):\n",
        "        return np.random.randint(len(V))"
      ],
      "execution_count": 30,
      "outputs": []
    },
    {
      "cell_type": "code",
      "metadata": {
        "id": "xZifVrjoPCTa"
      },
      "source": [
        "class RSAgent(object):\n",
        "    \"\"\"\n",
        "    経験期待値の更新\n",
        "    RS価値関数の定義、更新\n",
        "    # 基準値alephの更新\n",
        "    RS-greedy選択肢を試行する\n",
        "    \"\"\"\n",
        "\n",
        "    def __init__(self, K, policy):\n",
        "        self._K = K\n",
        "        self._alpha = None\n",
        "        self._V = None\n",
        "        self._n = None\n",
        "        self._N = None\n",
        "        self.RS = None\n",
        "        self.aleph = None\n",
        "        self._mu = None\n",
        "        self._D = None\n",
        "        self._policy = Policy(policy)\n",
        "\n",
        "    def initialize(self):\n",
        "        self._V = np.array([0.5] * self._K)\n",
        "        self._n = np.array([1e-8] * self._K)\n",
        "        self._N = 0\n",
        "        self.RS = np.zeros(self._K)\n",
        "        self.aleph = 1.2\n",
        "        self._mu = 0.0\n",
        "        self._D = 0.0\n",
        "\n",
        "    def update(self, arm, reward):\n",
        "        self._alpha = 1 / (1 + self._n[arm])\n",
        "        self._V[arm] = (1 - self._alpha) * self._V[arm] + (reward * self._alpha)\n",
        "        self._n[arm] += 1\n",
        "        self._N += 1\n",
        "        self.RS[arm] = (self._n[arm] / self._N) * (self._V[arm] - self.aleph)\n",
        "        # print(f'V: {self._V}')\n",
        "        # G = random.choice(np.where(self._V == self._V.max())[0])\n",
        "        # j = 0 if G == 1 else 1\n",
        "        # self.D_KL(self._V[j], self._V[G])\n",
        "\n",
        "    def update_aleph(self):\n",
        "        G = random.choice(np.where(self._V == self._V.max())[0])\n",
        "        j = 0 if G == 1 else 1\n",
        "        self._mu = np.exp(-self._n[j] * self._D)\n",
        "        self.aleph = self._V[G] * (1 - (self._V[j]/self._V[G]) * self._mu) / (1 - self._mu)\n",
        "\n",
        "    def D_KL(self, p, q):\n",
        "        self._D += (p * np.log(p/q))\n",
        "\n",
        "    def select_arm(self):\n",
        "        return self._policy.act_policy(self._V, self.RS)\n",
        "\n",
        "    def calc_z(self):\n",
        "        return 1 / np.sum(1 / (self.aleph - self._V))"
      ],
      "execution_count": 31,
      "outputs": []
    },
    {
      "cell_type": "code",
      "metadata": {
        "id": "KIZhZYcUllNa"
      },
      "source": [
        "class Simulator(object):\n",
        "    \"\"\"\n",
        "    シミュレーションを行う\n",
        "    regretの計算\n",
        "    regret,stepsをplot\n",
        "    \"\"\"\n",
        "    \n",
        "    def __init__(self, trial, step, K):\n",
        "        self._algorithm = [\"random\", \"RS\",  \"e_greedy\"]\n",
        "        self._env = None\n",
        "        self._prob = None\n",
        "        self._trial = trial\n",
        "        self._step = step\n",
        "        self._K = K\n",
        "        self._regret = np.zeros((trial, step))\n",
        "        self.fig, self.ax = plt.subplots()\n",
        "\n",
        "    def run(self):\n",
        "        for algo in self._algorithm:\n",
        "            self._agent = RSAgent(self._K, algo)\n",
        "            print(f'algorithm: {algo}')\n",
        "            for t in range(self._trial):\n",
        "                self._env = Environment(self._K)\n",
        "                self._prob = self._env.prob\n",
        "                self._agent.initialize()\n",
        "                for s in range(self._step):\n",
        "                    arm = self._agent.select_arm()\n",
        "                    reward = self._env.play(arm)\n",
        "                    self._agent.update(arm, reward)\n",
        "                    self.calc_regret(t, s, arm)\n",
        "                # self._agent.update_aleph()\n",
        "            self.print_regret()\n",
        "        self.fig.tight_layout()\n",
        "        plt.show()\n",
        "\n",
        "    def calc_regret(self, t, s, arm):\n",
        "        self._regret[t][s] = (self._prob.max() - self._prob[arm])\n",
        "        if s != 0: self._regret[t][s] += self._regret[t][s-1]\n",
        "\n",
        "    def print_regret(self):\n",
        "        self.ax.plot(np.arange(self._step), np.mean(self._regret, axis=0), linestyle='dashed')\n",
        "        self.ax.set_xlabel(\"steps\")\n",
        "        self.ax.set_ylabel(\"regret\")\n",
        "        self.ax.legend(labels=self._algorithm)"
      ],
      "execution_count": 32,
      "outputs": []
    },
    {
      "cell_type": "code",
      "metadata": {
        "colab": {
          "base_uri": "https://localhost:8080/",
          "height": 348
        },
        "id": "dKE34olTSZ-n",
        "outputId": "6edb66b8-7f3c-4e02-f541-d967df9e4bc9"
      },
      "source": [
        "def main():\n",
        "    trial = 100\n",
        "    step = 1000\n",
        "    K = 2\n",
        "    sim = Simulator(trial, step, K)\n",
        "    sim.run()\n",
        "\n",
        "main()"
      ],
      "execution_count": 33,
      "outputs": [
        {
          "output_type": "stream",
          "name": "stdout",
          "text": [
            "algorithm: random\n",
            "algorithm: RS\n",
            "algorithm: e_greedy\n"
          ]
        },
        {
          "output_type": "display_data",
          "data": {
            "image/png": "[encoded data removed]",
            "text/plain": [
              "<Figure size 432x288 with 1 Axes>"
            ]
          },
          "metadata": {
            "needs_background": "light"
          }
        }
      ]
    },
    {
      "cell_type": "code",
      "metadata": {
        "id": "eGL8hNXlNaV_"
      },
      "source": [
        "# def update_aleph(self):\n",
        "#         #2本腕を想定\n",
        "#         G = random.choice(np.where(self._V == self._V.max())[0])\n",
        "#         if G == 0: j = 1     #G:(maxIndex), j:(NotMaxIndex)\n",
        "#         else: j = 0\n",
        "#         mu = self._n[j]/self._n[G]\n",
        "#         #step数が小さいと upper = lower になる可能性がある\n",
        "#         #腕の確率が小さいと V(a_G) = V(a_j) = 0 でエラーになる可能性がある(一度も当たらない(かなりレアケース))\n",
        "#         self.aleph = self._V.max() * (1 - (self._V[j]/self._V[G]) * mu) / 1 - mu"
      ],
      "execution_count": 34,
      "outputs": []
    }
  ]
}