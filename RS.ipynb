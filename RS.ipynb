{
  "nbformat": 4,
  "nbformat_minor": 0,
  "metadata": {
    "colab": {
      "name": "RS.ipynb",
      "provenance": [],
      "collapsed_sections": [],
      "authorship_tag": "ABX9TyMpbo1Et5qvx4N0DqCGJJ/Q",
      "include_colab_link": true
    },
    "kernelspec": {
      "name": "python3",
      "display_name": "Python 3"
    },
    "language_info": {
      "name": "python"
    }
  },
  "cells": [
    {
      "cell_type": "markdown",
      "metadata": {
        "id": "view-in-github",
        "colab_type": "text"
      },
      "source": [
        "<a href=\"https://colab.research.google.com/github/astrfo/RS_init/blob/main/RS.ipynb\" target=\"_parent\"><img src=\"https://colab.research.google.com/assets/colab-badge.svg\" alt=\"Open In Colab\"/></a>"
      ]
    },
    {
      "cell_type": "markdown",
      "metadata": {
        "id": "R3JxaIZcWn5q"
      },
      "source": [
        "# RS 実装\n",
        "\n",
        "[満足化を通じた最適な自律的探索] https://www.jstage.jst.go.jp/article/pjsai/JSAI2018/0/JSAI2018_1Z304/_article/-char/ja/\n",
        "\n",
        "[論文要約] https://colab.research.google.com/drive/199SxVBGDdkuzSzU9pjVP9BfMPzaypLfj#scrollTo=UUSaBpguVsBB\n",
        "\n",
        "\n"
      ]
    },
    {
      "cell_type": "code",
      "metadata": {
        "id": "v_xANSNHO5YD"
      },
      "source": [
        "import sys\n",
        "import numpy as np\n",
        "import random\n",
        "import matplotlib.pyplot as plt\n",
        "%matplotlib inline"
      ],
      "execution_count": 288,
      "outputs": []
    },
    {
      "cell_type": "code",
      "metadata": {
        "id": "guDY-K_7O_cO"
      },
      "source": [
        "class Environment(object):\n",
        "\n",
        "    def __init__(self, K):\n",
        "        self._K = K\n",
        "        self.prob = np.array([np.random.rand() for _ in range(K)])   #一様分布からサンプリング\n",
        "        print(f'prob: {self.prob}')\n",
        "\n",
        "    def play(self, arm):\n",
        "        if self.prob[arm] > random.random():\n",
        "            return 1\n",
        "        else:\n",
        "            return 0"
      ],
      "execution_count": 289,
      "outputs": []
    },
    {
      "cell_type": "code",
      "metadata": {
        "id": "xZifVrjoPCTa"
      },
      "source": [
        "class Agent(object):\n",
        "\n",
        "    def __init__(self, K):\n",
        "        self._K = K\n",
        "        self._alpha = None\n",
        "        self._V = None\n",
        "        self._n = None\n",
        "        self._N = None\n",
        "        self.RS = None\n",
        "        self.aleph = 1.2        #必ず非満足状態になるように\n",
        "\n",
        "    def initialize(self):\n",
        "        self._V = np.array([0.5] * self._K)     #Vの初期値は0.5\n",
        "        self._n = np.array([1e-8] * self._K)      #RS式でゼロ除算を防ぐため, sys.float_info.minでエラーになる可能性がある\n",
        "        self._N = 0     #総試行回数\n",
        "        self.RS = np.zeros(self._K)     #?. RSの初期値はゼロ？？\n",
        "        # self._alpha = np.zeros(self._K)     #?. alphaは各腕n(a_i)によって分けるべきなのか？ a.多分そんなことしなくていい。\n",
        "\n",
        "    def update(self, arm, reward):\n",
        "        # print(f'alpha: {self._alpha}')\n",
        "        self._n[arm] += 1       #?. n(a_i)+=1の処理を先に行わないとハズレの場合、初期値V(a_i)=0.5がゼロになるので良くないのでは？\n",
        "        self._N += 1\n",
        "        self._alpha = 1 / (1 + self._n[arm])\n",
        "        self._V[arm] = (1 - self._alpha) * self._V[arm] + self._alpha * reward\n",
        "\n",
        "        # print(f'aleph: {self.aleph}')\n",
        "        self.RS[arm] = (self._n[arm] / self._N) * (self._V[arm] - self.aleph)     #RS評価値の更新(これは後で分ける？)\n",
        "        # print(f'alpha: {self._alpha}')\n",
        "        # print(f'V: {self._V}')\n",
        "        # print(f'n: {self._n}')\n",
        "        # print(f'N: {self._N}')\n",
        "        # print(f'RS: {self.RS}')\n",
        "\n",
        "    def update_aleph(self):\n",
        "        #2本腕を想定\n",
        "        max_V = np.amax(self._V)\n",
        "        # print(f'V: {self._V}')\n",
        "        # print(f'maxV: {max_V}')\n",
        "        mI = random.choice(np.where(self._V == max_V)[0])       #複数あった場合エラー吐く\n",
        "        if mI == 0: nmI = 1     #このコードは直せ\n",
        "        else: nmI = 0\n",
        "        # nmI = random.choice(np.where(self._V != max_V)[0])\n",
        "        upper = 1 - (self._V[nmI]/self._V[mI]) * (self._n[nmI]/self._n[mI])     #腕の確率が小さいと V(a_G) = V(a_j) = 0 でエラーになる可能性がある(一度も当たらない(かなりレアケース))\n",
        "        under = (1 - self._n[nmI]/self._n[mI])\n",
        "        self.aleph = max_V * upper / under      #step数が小さいと upper = under になる可能性がある\n",
        "        # print(f'n: {self._n}')\n",
        "        # print(f'V: {self._V}')\n",
        "        # print(f'upper: {upper}, under: {under}')\n",
        "        # print(f'aleph: {self.aleph}')\n",
        "\n",
        "    def select_arm(self):\n",
        "        maxRS = np.amax(self.RS)\n",
        "        maxIndex = np.where(self.RS == maxRS)[0]\n",
        "        # print(f'RS: {self.RS}')\n",
        "        # print(f'maxRS: {maxRS}')\n",
        "        # print(f'maxIndex: {maxIndex}')\n",
        "        # print(f'random.maxIndex: {random.choice(maxIndex)}')\n",
        "        return random.choice(maxIndex)"
      ],
      "execution_count": 290,
      "outputs": []
    },
    {
      "cell_type": "code",
      "metadata": {
        "id": "KIZhZYcUllNa"
      },
      "source": [
        "class Simulator(object):\n",
        "    \n",
        "    def __init__(self, trial, step, K):\n",
        "        self._agent = Agent(K)\n",
        "        self._env = None\n",
        "        self._prob = None\n",
        "        self._trial = trial\n",
        "        self._step = step\n",
        "        self._regret = np.zeros((trial, step))\n",
        "\n",
        "    def run(self):\n",
        "        for t in range(self._trial):\n",
        "            print(f'{t}:')\n",
        "            self._env = Environment(K)\n",
        "            self._prob = self._env.prob\n",
        "            self._agent.initialize()\n",
        "            for s in range(self._step):\n",
        "                arm = self._agent.select_arm()\n",
        "                reward = self._env.play(arm)\n",
        "                self._agent.update(arm, reward)\n",
        "                # print(f'arm: {arm}, reward: {reward}')\n",
        "                self.calc_regret(t, s, arm)\n",
        "                # print()\n",
        "            print(f'RS: {self._agent.RS}')\n",
        "            self._agent.update_aleph()\n",
        "            print()\n",
        "        self.print_regret()\n",
        "\n",
        "    def calc_regret(self, t, s, arm):\n",
        "        self._regret[t][s] += np.amax(self._prob) - self._prob[arm]\n",
        "        if s != 0: self._regret[t][s] += self._regret[t][s-1]\n",
        "        # print('regret:')\n",
        "        # print(f'{self._regret}')\n",
        "\n",
        "    def print_regret(self):\n",
        "        plt.plot(np.arange(self._step), np.mean(self._regret, axis=0), label='RS', linestyle='dashed')\n",
        "        plt.xlabel('steps')\n",
        "        plt.ylabel('regret')\n",
        "        plt.legend()\n",
        "        plt.show()"
      ],
      "execution_count": 291,
      "outputs": []
    },
    {
      "cell_type": "code",
      "metadata": {
        "colab": {
          "base_uri": "https://localhost:8080/",
          "height": 347
        },
        "id": "dKE34olTSZ-n",
        "outputId": "b034dd32-a886-4c0b-f9a6-1c393ba56820"
      },
      "source": [
        "trial = 1\n",
        "step = 100      #step数が少ないと n(a_G)=n(a_j) になりaleph更新式がゼロ除算を行ってエラーになる可能性がある\n",
        "K = 2\n",
        "sim = Simulator(trial, step, K)\n",
        "sim.run()"
      ],
      "execution_count": 292,
      "outputs": [
        {
          "output_type": "stream",
          "name": "stdout",
          "text": [
            "0:\n",
            "prob: [0.15116547 0.75723068]\n",
            "RS: [-0.96734694 -0.47      ]\n",
            "\n"
          ]
        },
        {
          "output_type": "display_data",
          "data": {
            "image/png": "[encoded data removed]",
            "text/plain": [
              "<Figure size 432x288 with 1 Axes>"
            ]
          },
          "metadata": {
            "needs_background": "light"
          }
        }
      ]
    }
  ]
}