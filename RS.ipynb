{
  "nbformat": 4,
  "nbformat_minor": 0,
  "metadata": {
    "colab": {
      "name": "RS.ipynb",
      "provenance": [],
      "collapsed_sections": [],
      "authorship_tag": "ABX9TyNcPnPVK2Q/liH7vMKmSFZa",
      "include_colab_link": true
    },
    "kernelspec": {
      "name": "python3",
      "display_name": "Python 3"
    },
    "language_info": {
      "name": "python"
    }
  },
  "cells": [
    {
      "cell_type": "markdown",
      "metadata": {
        "id": "view-in-github",
        "colab_type": "text"
      },
      "source": [
        "<a href=\"https://colab.research.google.com/github/astrfo/RS_init/blob/main/RS.ipynb\" target=\"_parent\"><img src=\"https://colab.research.google.com/assets/colab-badge.svg\" alt=\"Open In Colab\"/></a>"
      ]
    },
    {
      "cell_type": "markdown",
      "metadata": {
        "id": "R3JxaIZcWn5q"
      },
      "source": [
        "# RS 実装\n",
        "\n",
        "[満足化を通じた最適な自律的探索] https://www.jstage.jst.go.jp/article/pjsai/JSAI2018/0/JSAI2018_1Z304/_article/-char/ja/\n",
        "\n",
        "[論文要約] https://colab.research.google.com/drive/199SxVBGDdkuzSzU9pjVP9BfMPzaypLfj#scrollTo=UUSaBpguVsBB\n",
        "\n",
        "\n"
      ]
    },
    {
      "cell_type": "code",
      "metadata": {
        "id": "v_xANSNHO5YD"
      },
      "source": [
        "import sys\n",
        "import numpy as np\n",
        "import random\n",
        "import matplotlib.pyplot as plt\n",
        "%matplotlib inline"
      ],
      "execution_count": 117,
      "outputs": []
    },
    {
      "cell_type": "code",
      "metadata": {
        "id": "guDY-K_7O_cO"
      },
      "source": [
        "class Environment(object):\n",
        "\n",
        "    def __init__(self, K):\n",
        "        self._K = K\n",
        "        self.prob = [np.random.rand() for _ in range(K)]   #一様分布からサンプリング\n",
        "        print(f'{self.prob}')\n",
        "\n",
        "    def play(self, arm):\n",
        "        if self.prob[arm] > random.random():\n",
        "            return 1\n",
        "        else:\n",
        "            return 0"
      ],
      "execution_count": 118,
      "outputs": []
    },
    {
      "cell_type": "code",
      "metadata": {
        "id": "xZifVrjoPCTa"
      },
      "source": [
        "class Agent(object):\n",
        "\n",
        "    def __init__(self, K):\n",
        "        self._K = K\n",
        "        self._alpha = None\n",
        "        self._V = None\n",
        "        self._n = None\n",
        "        self._N = None\n",
        "        self.RS = None\n",
        "        self.aleph = 1.0        #必ず非満足状態になるように\n",
        "\n",
        "    def initialize(self):\n",
        "        self._V = np.array([0.5] * self._K)\n",
        "        self._n = np.array([sys.float_info.min] * self._K)      #RS式でゼロ除算を防ぐため\n",
        "        self._N = 0\n",
        "        self.RS = np.zeros(self._K)     #RSの初期値はゼロ？？\n",
        "\n",
        "    def update(self, arm, reward):\n",
        "        self._alpha = 1 / (1 + self._n[arm])\n",
        "        self._V[arm] = (1 - self._alpha) * self._V[arm] + self._alpha * reward\n",
        "        self._n[arm] += 1\n",
        "        self._N += 1\n",
        "        self.RS[arm] = self._n[arm] / self._N * (self._V[arm] - self.aleph)     #RS評価値の更新(これは後で分ける？)\n",
        "\n",
        "    def select_arm(self):\n",
        "        maxRS = np.amax(self.RS)\n",
        "        maxIndex = np.where(self.RS == maxRS)[0]\n",
        "        return random.choice(maxIndex)"
      ],
      "execution_count": 119,
      "outputs": []
    },
    {
      "cell_type": "code",
      "metadata": {
        "id": "KIZhZYcUllNa"
      },
      "source": [
        "class Simulator(object):\n",
        "    \n",
        "    def __init__(self, trial, step, K):\n",
        "        self._agent = Agent(K)\n",
        "        self._env = Environment(K)\n",
        "        self._prob = self._env.prob\n",
        "        self._trial = trial\n",
        "        self._step = step\n",
        "        self._regret = np.zeros((trial, step))\n",
        "\n",
        "    def run(self):\n",
        "        for t in range(self._trial):\n",
        "            self._agent.initialize()\n",
        "            for s in range(self._step):\n",
        "                arm = self._agent.select_arm()\n",
        "                reward = self._env.play(arm)\n",
        "                self._agent.update(arm, reward)\n",
        "                print(f'arm: {arm}, reward: {reward}')\n",
        "                self.calc_regret(t, s, arm)\n",
        "            print(f'{self._agent.RS}')\n",
        "        self.print_regret()\n",
        "\n",
        "    def calc_regret(self, t, s, arm):\n",
        "        self._regret[t][s] += max(self._prob) - self._prob[arm]\n",
        "        if s != 0: self._regret[t][s] += self._regret[t][s-1]\n",
        "\n",
        "    def print_regret(self):\n",
        "        plt.plot(np.arange(self._step), np.mean(self._regret, axis=0), label='RS')\n",
        "        plt.xlabel('steps')\n",
        "        plt.ylabel('regret')\n",
        "        plt.legend()\n",
        "        plt.show()"
      ],
      "execution_count": 140,
      "outputs": []
    },
    {
      "cell_type": "code",
      "metadata": {
        "colab": {
          "base_uri": "https://localhost:8080/",
          "height": 487
        },
        "id": "dKE34olTSZ-n",
        "outputId": "06430fdf-24a5-479a-f751-8f098f4988d4"
      },
      "source": [
        "trial = 1\n",
        "step = 10\n",
        "K = 2\n",
        "sim = Simulator(trial, step, K)\n",
        "sim.run()"
      ],
      "execution_count": 144,
      "outputs": [
        {
          "output_type": "stream",
          "name": "stdout",
          "text": [
            "[0.31818898999032175, 0.9533777464302882]\n",
            "arm: 0, reward: 1\n",
            "arm: 1, reward: 1\n",
            "arm: 1, reward: 1\n",
            "arm: 0, reward: 0\n",
            "arm: 1, reward: 1\n",
            "arm: 1, reward: 1\n",
            "arm: 1, reward: 1\n",
            "arm: 1, reward: 1\n",
            "arm: 1, reward: 1\n",
            "arm: 1, reward: 1\n",
            "[-0.25  0.  ]\n"
          ]
        },
        {
          "output_type": "display_data",
          "data": {
            "image/png": "[encoded data removed]",
            "text/plain": [
              "<Figure size 432x288 with 1 Axes>"
            ]
          },
          "metadata": {
            "needs_background": "light"
          }
        }
      ]
    },
    {
      "cell_type": "code",
      "metadata": {
        "id": "RdTme1MoVrw8"
      },
      "source": [
        ""
      ],
      "execution_count": 121,
      "outputs": []
    },
    {
      "cell_type": "code",
      "metadata": {
        "id": "ykCTdVCqVr1Q"
      },
      "source": [
        ""
      ],
      "execution_count": 121,
      "outputs": []
    },
    {
      "cell_type": "code",
      "metadata": {
        "id": "M9Z5ZK96Vr5b"
      },
      "source": [
        ""
      ],
      "execution_count": 121,
      "outputs": []
    },
    {
      "cell_type": "code",
      "metadata": {
        "colab": {
          "base_uri": "https://localhost:8080/"
        },
        "id": "QMQiZ_ObVr9H",
        "outputId": "fd2d71bc-2d80-4997-dbff-8e6be3ccf4de"
      },
      "source": [
        "a = np.arange(10)\n",
        "random.choice(a)"
      ],
      "execution_count": 122,
      "outputs": [
        {
          "output_type": "execute_result",
          "data": {
            "text/plain": [
              "0"
            ]
          },
          "metadata": {},
          "execution_count": 122
        }
      ]
    },
    {
      "cell_type": "code",
      "metadata": {
        "colab": {
          "base_uri": "https://localhost:8080/"
        },
        "id": "M-LLhNV1Qbz6",
        "outputId": "5625f0d2-0286-47b6-d57d-a9e63b1492bf"
      },
      "source": [
        "K = 20\n",
        "arm_prob = np.array([np.random.rand() for _ in range(K)])\n",
        "arm_prob"
      ],
      "execution_count": 123,
      "outputs": [
        {
          "output_type": "execute_result",
          "data": {
            "text/plain": [
              "array([0.52615422, 0.24120922, 0.63863485, 0.11208892, 0.02618996,\n",
              "       0.23084567, 0.04137037, 0.5147608 , 0.2447311 , 0.75268619,\n",
              "       0.26160419, 0.68021449, 0.63141837, 0.96154118, 0.57905507,\n",
              "       0.21835248, 0.81794208, 0.81779655, 0.03376935, 0.00976382])"
            ]
          },
          "metadata": {},
          "execution_count": 123
        }
      ]
    },
    {
      "cell_type": "code",
      "metadata": {
        "colab": {
          "base_uri": "https://localhost:8080/"
        },
        "id": "ShX99o5eSY_m",
        "outputId": "e5c05ba9-3a0a-439b-a596-84b32b814c92"
      },
      "source": [
        "sys.float_info.min + 1"
      ],
      "execution_count": 124,
      "outputs": [
        {
          "output_type": "execute_result",
          "data": {
            "text/plain": [
              "1.0"
            ]
          },
          "metadata": {},
          "execution_count": 124
        }
      ]
    }
  ]
}