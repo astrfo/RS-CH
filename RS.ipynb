{
  "nbformat": 4,
  "nbformat_minor": 0,
  "metadata": {
    "colab": {
      "name": "RS.ipynb",
      "provenance": [],
      "collapsed_sections": [],
      "authorship_tag": "ABX9TyPpiy4ObiXNxm0E6881+pFO",
      "include_colab_link": true
    },
    "kernelspec": {
      "name": "python3",
      "display_name": "Python 3"
    },
    "language_info": {
      "name": "python"
    }
  },
  "cells": [
    {
      "cell_type": "markdown",
      "metadata": {
        "id": "view-in-github",
        "colab_type": "text"
      },
      "source": [
        "<a href=\"https://colab.research.google.com/github/astrfo/RS_init/blob/main/RS.ipynb\" target=\"_parent\"><img src=\"https://colab.research.google.com/assets/colab-badge.svg\" alt=\"Open In Colab\"/></a>"
      ]
    },
    {
      "cell_type": "markdown",
      "metadata": {
        "id": "R3JxaIZcWn5q"
      },
      "source": [
        "# RS 実装\n",
        "\n",
        "[満足化を通じた最適な自律的探索] https://www.jstage.jst.go.jp/article/pjsai/JSAI2018/0/JSAI2018_1Z304/_article/-char/ja/\n",
        "\n",
        "[論文要約] https://colab.research.google.com/drive/199SxVBGDdkuzSzU9pjVP9BfMPzaypLfj#scrollTo=UUSaBpguVsBB\n",
        "\n",
        "\n"
      ]
    },
    {
      "cell_type": "code",
      "metadata": {
        "id": "v_xANSNHO5YD"
      },
      "source": [
        "import sys\n",
        "import numpy as np\n",
        "import random\n",
        "import matplotlib.pyplot as plt\n",
        "%matplotlib inline"
      ],
      "execution_count": 34,
      "outputs": []
    },
    {
      "cell_type": "code",
      "metadata": {
        "id": "guDY-K_7O_cO"
      },
      "source": [
        "class Environment(object):\n",
        "\n",
        "    def __init__(self, K):\n",
        "        self._K = K\n",
        "        self.prob = np.array([np.random.rand() for _ in range(K)])   #一様分布からサンプリング\n",
        "        print(f'{self.prob}')\n",
        "\n",
        "    def play(self, arm):\n",
        "        if self.prob[arm] > random.random():\n",
        "            return 1\n",
        "        else:\n",
        "            return 0"
      ],
      "execution_count": 35,
      "outputs": []
    },
    {
      "cell_type": "code",
      "metadata": {
        "id": "xZifVrjoPCTa"
      },
      "source": [
        "class Agent(object):\n",
        "\n",
        "    def __init__(self, K):\n",
        "        self._K = K\n",
        "        self._alpha = None\n",
        "        self._V = None\n",
        "        self._n = None\n",
        "        self._N = None\n",
        "        self.RS = None\n",
        "        self.aleph = 1.0        #必ず非満足状態になるように\n",
        "\n",
        "    def initialize(self):\n",
        "        self._V = np.array([0.5] * self._K)\n",
        "        self._n = np.array([sys.float_info.min] * self._K)      #RS式でゼロ除算を防ぐため\n",
        "        self._N = 0\n",
        "        self.RS = np.zeros(self._K)     #RSの初期値はゼロ？？\n",
        "\n",
        "    def update(self, arm, reward):\n",
        "        self._alpha = 1 / (1 + self._n[arm])\n",
        "        self._V[arm] = (1 - self._alpha) * self._V[arm] + self._alpha * reward\n",
        "        self._n[arm] += 1\n",
        "        self._N += 1\n",
        "        self.RS[arm] = self._n[arm] / self._N * (self._V[arm] - self.aleph)     #RS評価値の更新(これは後で分ける？)\n",
        "\n",
        "    def update_aleph(self):\n",
        "        #2本腕を想定\n",
        "        max_V = np.amax(self._V)\n",
        "        # print(f'V: {self._V}')\n",
        "        # print(f'maxV: {max_V}')\n",
        "        mI = random.choice(np.where(self._V == max_V)[0])       #複数あった場合エラー吐く\n",
        "        if mI == 0: nmI = 1     #このコードは直せ\n",
        "        else: nmI = 0\n",
        "        # nmI = random.choice(np.where(self._V != max_V)[0])\n",
        "        upper = 1 - (self._V[nmI]/self._V[mI]) * (self._n[nmI]/self._n[mI])     #腕の確率が小さいと V(a_G) = V(a_j) = 0 でエラーになる可能性がある(一度も当たらない)\n",
        "        under = (1 - self._n[nmI]/self._n[mI])\n",
        "        self.aleph = max_V * upper / under\n",
        "        print(f'n: {self._n}')\n",
        "        print(f'V: {self._V}')\n",
        "        print(f'upper: {upper}, under: {under}')\n",
        "        print(f'aleph: {self.aleph}')\n",
        "\n",
        "    def select_arm(self):\n",
        "        maxRS = np.amax(self.RS)\n",
        "        maxIndex = np.where(self.RS == maxRS)[0]\n",
        "        # print(f'random.maxIndex: {random.choice(maxIndex)}')\n",
        "        return random.choice(maxIndex)"
      ],
      "execution_count": 36,
      "outputs": []
    },
    {
      "cell_type": "code",
      "metadata": {
        "id": "KIZhZYcUllNa"
      },
      "source": [
        "class Simulator(object):\n",
        "    \n",
        "    def __init__(self, trial, step, K):\n",
        "        self._agent = Agent(K)\n",
        "        self._env = None\n",
        "        self._prob = None\n",
        "        self._trial = trial\n",
        "        self._step = step\n",
        "        self._regret = np.zeros((trial, step))\n",
        "\n",
        "    def run(self):\n",
        "        for t in range(self._trial):\n",
        "            print(f'{t}:')\n",
        "            self._env = Environment(K)\n",
        "            self._prob = self._env.prob\n",
        "            self._agent.initialize()\n",
        "            for s in range(self._step):\n",
        "                arm = self._agent.select_arm()\n",
        "                reward = self._env.play(arm)\n",
        "                self._agent.update(arm, reward)\n",
        "                # print(f'arm: {arm}, reward: {reward}')\n",
        "                self.calc_regret(t, s, arm)\n",
        "            # print(f'{self._agent.RS}')\n",
        "            self._agent.update_aleph()\n",
        "        self.print_regret()\n",
        "\n",
        "    def calc_regret(self, t, s, arm):\n",
        "        self._regret[t][s] += np.amax(self._prob) - self._prob[arm]\n",
        "        if s != 0: self._regret[t][s] += self._regret[t][s-1]\n",
        "\n",
        "    def print_regret(self):\n",
        "        plt.plot(np.arange(self._step), np.mean(self._regret, axis=0), label='RS', linestyle='dashed')\n",
        "        plt.xlabel('steps')\n",
        "        plt.ylabel('regret')\n",
        "        plt.legend()\n",
        "        plt.show()"
      ],
      "execution_count": 37,
      "outputs": []
    },
    {
      "cell_type": "code",
      "metadata": {
        "colab": {
          "base_uri": "https://localhost:8080/",
          "height": 1000
        },
        "id": "dKE34olTSZ-n",
        "outputId": "293e0a09-655d-4f9f-fa59-4b71236e1879"
      },
      "source": [
        "trial = 20\n",
        "step = 1000      #step数が少ないと n(a_G)=n(a_j) になりaleph更新式がゼロ除算を行ってエラーになる\n",
        "K = 2\n",
        "sim = Simulator(trial, step, K)\n",
        "sim.run()"
      ],
      "execution_count": 39,
      "outputs": [
        {
          "output_type": "stream",
          "name": "stdout",
          "text": [
            "0:\n",
            "[0.56834935 0.11014689]\n",
            "n: [975.  25.]\n",
            "V: [0.56205128 0.16      ]\n",
            "upper: 0.9927007299270073, under: 0.9743589743589743\n",
            "aleph: 0.5726315789473694\n",
            "1:\n",
            "[0.00840837 0.80812104]\n",
            "n: [999.   1.]\n",
            "V: [0.00800801 0.        ]\n",
            "upper: 1.0, under: 0.998998998998999\n",
            "aleph: 0.008016032064128256\n",
            "2:\n",
            "[0.95977449 0.98133885]\n",
            "n: [2.22507386e-308 1.00000000e+003]\n",
            "V: [0.5   0.986]\n",
            "upper: 1.0, under: 1.0\n",
            "aleph: 0.986\n",
            "3:\n",
            "[0.7793431  0.89166662]\n",
            "n: [968.  32.]\n",
            "V: [0.7892562 0.71875  ]\n",
            "upper: 0.9698952879581152, under: 0.9669421487603306\n",
            "aleph: 0.7916666666666679\n",
            "4:\n",
            "[0.77272134 0.67008915]\n",
            "n: [  1. 999.]\n",
            "V: [0.         0.65965966]\n",
            "upper: 1.0, under: 0.998998998998999\n",
            "aleph: 0.6603206412825651\n",
            "5:\n",
            "[0.71836471 0.05162576]\n",
            "n: [  1. 999.]\n",
            "V: [0.         0.05105105]\n",
            "upper: 1.0, under: 0.998998998998999\n",
            "aleph: 0.0511022044088176\n",
            "6:\n",
            "[0.94905366 0.36525918]\n",
            "n: [1.00000000e+003 2.22507386e-308]\n",
            "V: [0.948 0.5  ]\n",
            "upper: 1.0, under: 1.0\n",
            "aleph: 0.9480000000000003\n",
            "7:\n",
            "[0.50086224 0.94444195]\n",
            "n: [  6. 994.]\n",
            "V: [0.66666667 0.94869215]\n",
            "upper: 0.9957582184517497, under: 0.993963782696177\n",
            "aleph: 0.9504048582995951\n",
            "8:\n",
            "[0.65776875 0.06807636]\n",
            "n: [959.  41.]\n",
            "V: [0.66527633 0.09756098]\n",
            "upper: 0.9937304075235109, under: 0.9572471324296141\n",
            "aleph: 0.6906318082788677\n",
            "9:\n",
            "[0.71038494 0.34042911]\n",
            "n: [999.   1.]\n",
            "V: [0.71371371 0.        ]\n",
            "upper: 1.0, under: 0.998998998998999\n",
            "aleph: 0.7144288577154314\n",
            "10:\n",
            "[0.67205891 0.41098387]\n",
            "n: [992.   8.]\n",
            "V: [0.6733871 0.25     ]\n",
            "upper: 0.9970059880239521, under: 0.9919354838709677\n",
            "aleph: 0.6768292682926833\n",
            "11:\n",
            "[0.63292314 0.96158406]\n",
            "n: [  2. 998.]\n",
            "V: [0.5        0.95591182]\n",
            "upper: 0.9989517819706499, under: 0.9979959919839679\n",
            "aleph: 0.9568273092369486\n",
            "12:\n",
            "[0.08652429 0.1800528 ]\n",
            "n: [  1. 999.]\n",
            "V: [0.         0.18618619]\n",
            "upper: 1.0, under: 0.998998998998999\n",
            "aleph: 0.18637274549098198\n",
            "13:\n",
            "[0.7838127  0.45474627]\n",
            "n: [1.00000000e+003 2.22507386e-308]\n",
            "V: [0.751 0.5  ]\n",
            "upper: 1.0, under: 1.0\n",
            "aleph: 0.7510000000000002\n",
            "14:\n",
            "[0.92694674 0.3434084 ]\n",
            "n: [999.   1.]\n",
            "V: [0.92792793 0.        ]\n",
            "upper: 1.0, under: 0.998998998998999\n",
            "aleph: 0.9288577154308625\n",
            "15:\n",
            "[0.75258871 0.42193352]\n",
            "n: [999.   1.]\n",
            "V: [0.74674675 0.        ]\n",
            "upper: 1.0, under: 0.998998998998999\n",
            "aleph: 0.7474949899799603\n",
            "16:\n",
            "[0.30617605 0.87325174]\n",
            "n: [  2. 998.]\n",
            "V: [0.5        0.86573146]\n",
            "upper: 0.9988425925925926, under: 0.9979959919839679\n",
            "aleph: 0.8664658634538149\n",
            "17:\n",
            "[0.582649   0.40254343]\n",
            "n: [  1. 999.]\n",
            "V: [0.         0.41141141]\n",
            "upper: 1.0, under: 0.998998998998999\n",
            "aleph: 0.4118236472945895\n",
            "18:\n",
            "[0.31873453 0.10022504]\n",
            "n: [999.   1.]\n",
            "V: [0.33233233 0.        ]\n",
            "upper: 1.0, under: 0.998998998998999\n",
            "aleph: 0.33266533066132276\n",
            "19:\n",
            "[0.94442367 0.70860884]\n",
            "n: [1.00000000e+003 2.22507386e-308]\n",
            "V: [0.947 0.5  ]\n",
            "upper: 1.0, under: 1.0\n",
            "aleph: 0.9469999999999994\n"
          ]
        },
        {
          "output_type": "display_data",
          "data": {
            "image/png": "[encoded data removed]",
            "text/plain": [
              "<Figure size 432x288 with 1 Axes>"
            ]
          },
          "metadata": {
            "needs_background": "light"
          }
        }
      ]
    },
    {
      "cell_type": "code",
      "metadata": {
        "id": "RdTme1MoVrw8"
      },
      "source": [
        "a = np.array([1,4,7,2,5])\n",
        "print(np.where(a == 2))\n",
        "print(np.amax(a))"
      ],
      "execution_count": null,
      "outputs": []
    },
    {
      "cell_type": "code",
      "metadata": {
        "id": "ykCTdVCqVr1Q"
      },
      "source": [
        ""
      ],
      "execution_count": null,
      "outputs": []
    },
    {
      "cell_type": "code",
      "metadata": {
        "id": "M9Z5ZK96Vr5b"
      },
      "source": [
        ""
      ],
      "execution_count": null,
      "outputs": []
    },
    {
      "cell_type": "code",
      "metadata": {
        "id": "QMQiZ_ObVr9H"
      },
      "source": [
        "a = np.arange(10)\n",
        "random.choice(a)"
      ],
      "execution_count": null,
      "outputs": []
    },
    {
      "cell_type": "code",
      "metadata": {
        "id": "M-LLhNV1Qbz6"
      },
      "source": [
        "K = 20\n",
        "arm_prob = np.array([np.random.rand() for _ in range(K)])\n",
        "arm_prob"
      ],
      "execution_count": null,
      "outputs": []
    },
    {
      "cell_type": "code",
      "metadata": {
        "id": "ShX99o5eSY_m"
      },
      "source": [
        "sys.float_info.min + 1"
      ],
      "execution_count": null,
      "outputs": []
    }
  ]
}