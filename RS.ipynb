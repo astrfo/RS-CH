{
  "nbformat": 4,
  "nbformat_minor": 0,
  "metadata": {
    "colab": {
      "name": "RS.ipynb",
      "provenance": [],
      "authorship_tag": "ABX9TyOOZi7wPFnk3XBgdpEBEthj",
      "include_colab_link": true
    },
    "kernelspec": {
      "name": "python3",
      "display_name": "Python 3"
    },
    "language_info": {
      "name": "python"
    }
  },
  "cells": [
    {
      "cell_type": "markdown",
      "metadata": {
        "id": "view-in-github",
        "colab_type": "text"
      },
      "source": [
        "<a href=\"https://colab.research.google.com/github/astrfo/RS_init/blob/main/RS.ipynb\" target=\"_parent\"><img src=\"https://colab.research.google.com/assets/colab-badge.svg\" alt=\"Open In Colab\"/></a>"
      ]
    },
    {
      "cell_type": "code",
      "metadata": {
        "id": "v_xANSNHO5YD"
      },
      "source": [
        "import sys\n",
        "import numpy as np\n",
        "import random\n",
        "import matplotlib.pyplot as plt\n",
        "%matplotlib inline"
      ],
      "execution_count": 3,
      "outputs": []
    },
    {
      "cell_type": "code",
      "metadata": {
        "id": "guDY-K_7O_cO"
      },
      "source": [
        "class Environment(object):\n",
        "\n",
        "    def __init__(self, K):\n",
        "        self._k = K\n",
        "        self._prob = [np.random.rand() for _ in range(K)]\n",
        "\n",
        "    def play(self, arm):\n",
        "        if self._prob[arm] > random.random():\n",
        "            return 1\n",
        "        else:\n",
        "            return 0"
      ],
      "execution_count": null,
      "outputs": []
    },
    {
      "cell_type": "code",
      "metadata": {
        "id": "xZifVrjoPCTa"
      },
      "source": [
        "class Agent(object):\n",
        "\n",
        "    def __init__(self, len_arm, policy, param):\n",
        "        self._len_arm = len_arm\n",
        "        self._policy = Policy(policy, param)\n",
        "        self._V = None\n",
        "        self._n = None\n",
        "        self._eps = sys.float_info.min\n",
        "\n",
        "    def initialize(self):\n",
        "        self._V = np.array([0.5] * self._len_arm)\n",
        "        self._n = np.array([self._eps] * self._len_arm)\n",
        "\n",
        "    def update(self, arm, reward):\n",
        "        self._n[arm] += 1\n",
        "        self._V[arm] += (reward - self._V[arm]) / self._n[arm] # 標本平均手法\n",
        "\n",
        "    def select_arm(self):\n",
        "        act = self._policy._act_policy(self._V)\n",
        "        return act"
      ],
      "execution_count": null,
      "outputs": []
    },
    {
      "cell_type": "code",
      "metadata": {
        "id": "w2a29QJuPZEi"
      },
      "source": [
        "class Policy(object):\n",
        "    def __init__(self, policy, param):\n",
        "        if 'e_greedy' == policy:\n",
        "            self._epsilon = param\n",
        "            self._act_policy = self.e_greedy\n",
        "        if 'random' == policy:\n",
        "            self._act_policy = self._random\n",
        "\n",
        "    def e_greedy(self, V):\n",
        "        if self._epsilon < random.random():\n",
        "            max_V = max(V)\n",
        "            maxIndex = np.where(V == max_V)[0] # V値が複数ある場合、ランダムで選択する\n",
        "            return random.choice(maxIndex) # greedy行動を返す\n",
        "        else:\n",
        "            return random.randrange(len(V)) # ランダムで選ばれた行動を返す\n",
        "\n",
        "    def _random(self, V):\n",
        "        return random.randrange(len(V))"
      ],
      "execution_count": null,
      "outputs": []
    },
    {
      "cell_type": "code",
      "metadata": {
        "id": "5cxwCU6zPdOJ"
      },
      "source": [
        "class Simulator(object):\n",
        "\n",
        "    def __init__(self, trial, step, len_arm, prob, policy, param):\n",
        "        self._agent = Agent(len_arm, policy, param)\n",
        "        self._env = Environment(prob)\n",
        "        self._prob = prob\n",
        "        self._trial = trial\n",
        "        self._step = step\n",
        "        self._epsilon = param\n",
        "        self._regret = np.zeros((trial, step))\n",
        "\n",
        "    \n",
        "    def run(self):\n",
        "        for t in range(self._trial):\n",
        "            self._agent.initialize()\n",
        "            for s in range(self._step):\n",
        "                arm = self._agent.select_arm()\n",
        "                reward = self._env.play(arm)\n",
        "                self._agent.update(arm, reward)\n",
        "                self.calc_regret(t, s, arm)\n",
        "        self.print_regret()\n",
        "\n",
        "    \n",
        "    def calc_regret(self, t, s, arm):\n",
        "        self._regret[t][s] += max(self._prob) - self._prob[arm]\n",
        "        if s != 0: self._regret[t][s] += self._regret[t][s-1]\n",
        "    \n",
        "    def print_regret(self):\n",
        "        plt.plot(np.arange(self._step), np.mean(self._regret, axis=0), label='epsilon='+str(self._epsilon))\n",
        "        plt.xlabel('step')\n",
        "        plt.ylabel('regret')\n",
        "        plt.legend()\n",
        "        plt.show()"
      ],
      "execution_count": null,
      "outputs": []
    },
    {
      "cell_type": "code",
      "metadata": {
        "id": "ZtQFPUmVPfDB"
      },
      "source": [
        "K = 20\n",
        "\n",
        "arm_prob = np.array([0.3, 0.5, 0.7]) # 腕の本数、確率はここで変更可\n",
        "policy = 'e_greedy' # 方策はここで変更可 e_greedyまたはrandom\n",
        "epsilon = 0.1\n",
        "trial = 100\n",
        "step = 1000\n",
        "\n",
        "sim = Simulator(trial, step, len(arm_prob), arm_prob, policy, param=epsilon)\n",
        "sim.run()"
      ],
      "execution_count": null,
      "outputs": []
    },
    {
      "cell_type": "code",
      "metadata": {
        "id": "yVqbRSf_SZyT"
      },
      "source": [
        ""
      ],
      "execution_count": null,
      "outputs": []
    },
    {
      "cell_type": "code",
      "metadata": {
        "id": "ltsDsGFDSZ2k"
      },
      "source": [
        ""
      ],
      "execution_count": null,
      "outputs": []
    },
    {
      "cell_type": "code",
      "metadata": {
        "id": "dKE34olTSZ-n"
      },
      "source": [
        ""
      ],
      "execution_count": null,
      "outputs": []
    },
    {
      "cell_type": "code",
      "metadata": {
        "colab": {
          "base_uri": "https://localhost:8080/"
        },
        "id": "M-LLhNV1Qbz6",
        "outputId": "8781c4f8-ccf2-4777-8201-111bdbd2f774"
      },
      "source": [
        "K = 20\n",
        "arm_prob = np.array([np.random.rand() for _ in range(K)])\n",
        "arm_prob"
      ],
      "execution_count": 2,
      "outputs": [
        {
          "output_type": "execute_result",
          "data": {
            "text/plain": [
              "array([0.01552502, 0.83617327, 0.38771308, 0.52052895, 0.96019493,\n",
              "       0.47733024, 0.33209924, 0.38663927, 0.70810371, 0.29002406,\n",
              "       0.82375415, 0.13382304, 0.68687707, 0.42595111, 0.02935369,\n",
              "       0.38028751, 0.31425619, 0.06047769, 0.28614631, 0.43704415])"
            ]
          },
          "metadata": {},
          "execution_count": 2
        }
      ]
    },
    {
      "cell_type": "code",
      "metadata": {
        "colab": {
          "base_uri": "https://localhost:8080/"
        },
        "id": "ShX99o5eSY_m",
        "outputId": "b6829197-f6c0-443f-992e-5e3567e86107"
      },
      "source": [
        "sys.float_info.min"
      ],
      "execution_count": 4,
      "outputs": [
        {
          "output_type": "execute_result",
          "data": {
            "text/plain": [
              "2.2250738585072014e-308"
            ]
          },
          "metadata": {},
          "execution_count": 4
        }
      ]
    }
  ]
}