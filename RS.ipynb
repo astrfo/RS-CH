{
  "nbformat": 4,
  "nbformat_minor": 0,
  "metadata": {
    "colab": {
      "name": "RS.ipynb",
      "provenance": [],
      "collapsed_sections": [],
      "authorship_tag": "ABX9TyP+QmpJEPWuBMSngR8BXxkc",
      "include_colab_link": true
    },
    "kernelspec": {
      "display_name": "Python 3",
      "name": "python3"
    },
    "language_info": {
      "name": "python"
    }
  },
  "cells": [
    {
      "cell_type": "markdown",
      "metadata": {
        "id": "view-in-github",
        "colab_type": "text"
      },
      "source": [
        "<a href=\"https://colab.research.google.com/github/astrfo/RS_init/blob/main/RS.ipynb\" target=\"_parent\"><img src=\"https://colab.research.google.com/assets/colab-badge.svg\" alt=\"Open In Colab\"/></a>"
      ]
    },
    {
      "cell_type": "markdown",
      "metadata": {
        "id": "R3JxaIZcWn5q"
      },
      "source": [
        "# RS 実装\n",
        "\n",
        "[満足化を通じた最適な自律的探索] https://www.jstage.jst.go.jp/article/pjsai/JSAI2018/0/JSAI2018_1Z304/_article/-char/ja/\n",
        "\n",
        "[論文要約] https://github.com/astrfo/AutonomousOptimalExplorationThroughSatisficing/blob/main/AutonomousOptimalExplorationThroughSatisficing.ipynb\n",
        "\n",
        "\n"
      ]
    },
    {
      "cell_type": "code",
      "metadata": {
        "id": "v_xANSNHO5YD"
      },
      "source": [
        "import sys\n",
        "import numpy as np\n",
        "import random\n",
        "import matplotlib.pyplot as plt\n",
        "import time\n",
        "from decimal import Decimal, getcontext, FloatOperation, InvalidOperation, DivisionByZero\n",
        "%matplotlib inline\n",
        "getcontext().traps[InvalidOperation] = False "
      ],
      "execution_count": null,
      "outputs": []
    },
    {
      "cell_type": "code",
      "metadata": {
        "id": "guDY-K_7O_cO"
      },
      "source": [
        "class Environment(object):\n",
        "    \"\"\"\n",
        "    K本の各腕の確率を生成\n",
        "    当たりかハズレかを返す\n",
        "    \"\"\"\n",
        "\n",
        "    def __init__(self, K):\n",
        "        self._K = K\n",
        "        self.prob = np.array([np.random.rand() for _ in range(K)])\n",
        "        # print(f'prob: {self.prob}')\n",
        "\n",
        "    def play(self, arm):\n",
        "        if self.prob[arm] > np.random.rand():\n",
        "            return 1\n",
        "        else:\n",
        "            return 0"
      ],
      "execution_count": null,
      "outputs": []
    },
    {
      "cell_type": "code",
      "metadata": {
        "id": "pOKD5Dr-TLio"
      },
      "source": [
        "class Policy(object):\n",
        "    \"\"\"\n",
        "    各方策の実行\n",
        "    \"\"\"\n",
        "\n",
        "    def __init__(self, policy, param, K):\n",
        "        if 'RS-CH' == policy:\n",
        "            self.act_policy = self.RS_CH\n",
        "            self.aleph = param\n",
        "            self.RS = np.zeros(K)\n",
        "        if 'RS-OPT' == policy:\n",
        "            self.act_policy = self.RS_OPT\n",
        "            self.aleph = param\n",
        "            self.RS = np.zeros(K)\n",
        "        if 'e-greedy' == policy:\n",
        "            self.act_policy = self.e_greedy\n",
        "            self.epsilon = param\n",
        "        if 'random' == policy:\n",
        "            self.act_policy = self.random_\n",
        "        if 'ThompsonSampling' == policy:\n",
        "            self.act_policy = self.ThompsonSampling\n",
        "\n",
        "\n",
        "    def RS_CH(self, V, n, N):\n",
        "        self.RS = (n / (N+1)) * (V - self.aleph)        # RS評価値の更新\n",
        "        G = random.choice(np.where(V == V.max())[0])        # greedyな腕\n",
        "        mu = np.exp(-n * self.D_KL(V, V[G]))        # μ^CHの計算 (24)\n",
        "        aleph_list = V[G] * (1 - (V/V[G]) * mu) / (1 - mu)      # R^CHの計算 (25)\n",
        "        np.nan_to_num(aleph_list, copy=False)\n",
        "\n",
        "        # print()\n",
        "        # print(f'G: {G}')\n",
        "        # print(f'RS: {self.RS}')\n",
        "        # print(f'mu: {mu}')\n",
        "        # print(f'RS[G]<RS: {np.where(self.RS[G] < self.RS)[0]}')\n",
        "        # print(f'N: {N}')\n",
        "        if len(np.where(self.RS[G] <= self.RS)[0]) == 1:     # RS[G]のRS評価値が全てのRS[j]を上回る場合は腕Gを選択\n",
        "            # print('a')\n",
        "            return G\n",
        "        # elif len(np.where(self.RS[G] <= self.RS)[0]) == 2:        # RS[G]より大きいRS[j]が1つ存在する場合は腕jを選択\n",
        "        #     print('b')\n",
        "        #     return np.where(self.RS[G] <= self.RS)[0][0]\n",
        "        elif len(np.where(self.RS[G] <= self.RS)[0]) > 1:       # RS[G]を上回るRS[j]が2つ以上存在する場合\n",
        "            # print('c')\n",
        "            mu_tmp = mu[np.where(self.RS[G] <= self.RS)[0]]\n",
        "            if len(np.where(mu_tmp.max() == mu_tmp)[0]) == 1:      # 最も高いμが1つだった場合はその腕を選択\n",
        "                # print('d')\n",
        "                return np.where(self.RS[G] <= self.RS)[0][np.where(mu_tmp.max() == mu_tmp)[0]]\n",
        "            else:                                                        # 最も高いμが２つ以上だった場合\n",
        "                # print('e')\n",
        "                aleph_tmp = aleph_list[np.where(self.RS[G] <= self.RS)[0]]\n",
        "                if len(np.where(aleph_tmp.max() == aleph_tmp)[0]) == 1:     # 最も高いalephが1つだった場合はその腕を選択\n",
        "                    # print('f')\n",
        "                    return np.where(self.RS[G] <= self.RS)[0][np.where(aleph_tmp.max() == aleph_tmp)[0]]\n",
        "                else:                                                           # 最も高いalephが2つ以上だった場合はランダムに選択\n",
        "                    # print('g')\n",
        "                    return np.random.choice(np.where(self.RS[G] <= self.RS)[0][np.where(aleph_tmp.max() == aleph_tmp)[0]])\n",
        "\n",
        "        print('おめおめおめおめおめおめおめおめおめおめおめおめおめおめおめおめおめおめ')\n",
        "\n",
        "\n",
        "\n",
        "\n",
        "\n",
        "\n",
        "        self.aleph = aleph_list.max()\n",
        "        return np.random.choice(np.where(self.RS == self.RS.max())[0])\n",
        "\n",
        "    def RS_OPT(self, V, n, N):\n",
        "        self.RS = (n / (N+1)) * (V - self.aleph)\n",
        "        return np.random.choice(np.where(self.RS == self.RS.max())[0])\n",
        "\n",
        "    def e_greedy(self, V, _, __):\n",
        "        if self.epsilon < np.random.rand():\n",
        "            return np.random.choice(np.where(V == V.max())[0])\n",
        "        else:\n",
        "            return np.random.randint(len(V))\n",
        "\n",
        "    def random_(self, V, _, __):\n",
        "        return np.random.randint(len(V))\n",
        "\n",
        "    # alpha, beta の初期値\n",
        "    # def ThompsonSampling(self, V, _, __):\n",
        "    #     states = [(0, 0) for _ in V]\n",
        "    #     action = lambda: np.argmax([np.random.beta(s[0] + 1, s[1] + 1) for s in states])\n",
        "    #     return 1\n",
        "\n",
        "    def D_KL(self, p, q):\n",
        "        return p*np.log(p/q) + (1-p)*np.log( (1-p) / (1-q) )"
      ],
      "execution_count": null,
      "outputs": []
    },
    {
      "cell_type": "code",
      "metadata": {
        "id": "xZifVrjoPCTa"
      },
      "source": [
        "class RSAgent(object):\n",
        "    \"\"\"\n",
        "    経験期待値の更新\n",
        "    RS価値関数の定義、更新\n",
        "    選択肢を選ぶ\n",
        "    \"\"\"\n",
        "\n",
        "    def __init__(self, K, policy, param):\n",
        "        self._K = K\n",
        "        self._alpha = None\n",
        "        self._V = None\n",
        "        self._n = None\n",
        "        self._N = None\n",
        "        self.policy = Policy(policy, param, K)\n",
        "\n",
        "    def initialize(self):\n",
        "        self._V = np.array([0.5] * self._K)\n",
        "        self._n = np.array([1e-8] * self._K)\n",
        "        self._N = 0\n",
        "\n",
        "    def update(self, arm, reward):\n",
        "        self._alpha = 1 / (1 + self._n[arm])\n",
        "        self._V[arm] = (1 - self._alpha) * self._V[arm] + (reward * self._alpha)\n",
        "        self._n[arm] += 1\n",
        "        self._N += 1\n",
        "\n",
        "    def select_arm(self):\n",
        "        return self.policy.act_policy(self._V, self._n, self._N)"
      ],
      "execution_count": null,
      "outputs": []
    },
    {
      "cell_type": "code",
      "metadata": {
        "id": "KIZhZYcUllNa"
      },
      "source": [
        "class Simulator(object):\n",
        "    \"\"\"\n",
        "    シミュレーションを行う\n",
        "    regretの計算\n",
        "    regret,stepsをplot\n",
        "    \"\"\"\n",
        "    \n",
        "    def __init__(self, trial, step, K):\n",
        "        self._algorithm = {\"RS-CH\": 1.0}\n",
        "        self._env = None\n",
        "        self._prob = None\n",
        "        self._trial = trial\n",
        "        self._step = step\n",
        "        self._K = K\n",
        "        self._regret = np.zeros(step)\n",
        "        self._regretV = None\n",
        "        self.fig, self.ax = plt.subplots()\n",
        "\n",
        "    def run(self):\n",
        "        for algo, param in self._algorithm.items():\n",
        "            self._agent = RSAgent(self._K, algo, param)\n",
        "            print(f'algorithm: {algo}, param: {param}')\n",
        "            for t in range(self._trial):\n",
        "                self._env = Environment(self._K)\n",
        "                self._prob = self._env.prob\n",
        "                if algo == 'RS-OPT': self._agent.policy.aleph = sum(sorted(self._prob, reverse=True)[:2]) / 2\n",
        "                self._agent.initialize()\n",
        "                self._regretV = 0.0\n",
        "                for s in range(self._step):\n",
        "                    arm = self._agent.select_arm()\n",
        "                    reward = self._env.play(arm)\n",
        "                    self._agent.update(arm, reward)\n",
        "                    self.calc_regret(t, s, arm)\n",
        "            print(f'prob: {self._prob}')\n",
        "            self.print_regret()\n",
        "        self.fig.tight_layout()\n",
        "        plt.show()\n",
        "\n",
        "    def calc_regret(self, t, s, arm):\n",
        "        self._regretV += (self._prob.max() - self._prob[arm])\n",
        "        self._regret[s] += (self._regretV - self._regret[s]) / (t+1)\n",
        "\n",
        "    def print_regret(self):\n",
        "        self.ax.plot(np.arange(self._step), self._regret, linestyle='dashed')\n",
        "        self.ax.set_title(f'sim: {self._trial}, step: {self._step}, K: {self._K}')\n",
        "        self.ax.set_xlabel(\"steps\")\n",
        "        self.ax.set_ylabel(\"regret\")\n",
        "        self.ax.legend(labels=self._algorithm.items())"
      ],
      "execution_count": null,
      "outputs": []
    },
    {
      "cell_type": "code",
      "metadata": {
        "colab": {
          "base_uri": "https://localhost:8080/"
        },
        "id": "dKE34olTSZ-n",
        "outputId": "f07b9a49-6162-4223-e033-895afb2cbbbb"
      },
      "source": [
        "def main():\n",
        "    trial = 100\n",
        "    step = 100000\n",
        "    K = 8\n",
        "    sim = Simulator(trial, step, K)\n",
        "    sim.run()\n",
        "\n",
        "\n",
        "\n",
        "\n",
        "start = time.time()\n",
        "main()\n",
        "elapsed_time = time.time() - start\n",
        "print(\"elapsed_time:{0}\".format(elapsed_time) + \"[sec]\")"
      ],
      "execution_count": null,
      "outputs": [
        {
          "metadata": {
            "tags": null
          },
          "name": "stdout",
          "output_type": "stream",
          "text": [
            "algorithm: RS-CH, param: 1.0\n"
          ]
        },
        {
          "metadata": {
            "tags": null
          },
          "name": "stderr",
          "output_type": "stream",
          "text": [
            "/usr/local/lib/python3.7/dist-packages/ipykernel_launcher.py:28: RuntimeWarning: invalid value encountered in true_divide\n",
            "/usr/local/lib/python3.7/dist-packages/ipykernel_launcher.py:28: RuntimeWarning: divide by zero encountered in true_divide\n"
          ]
        },
        {
          "output_type": "stream",
          "name": "stdout",
          "text": [
            "prob: [0.89779855 0.81137703 0.86961252 0.096799   0.70941203 0.38434199\n",
            " 0.87092655 0.01625211]\n"
          ]
        },
        {
          "output_type": "display_data",
          "data": {
            "image/png": "[encoded data removed]",
            "text/plain": [
              "<Figure size 432x288 with 1 Axes>"
            ]
          },
          "metadata": {
            "needs_background": "light"
          }
        },
        {
          "output_type": "stream",
          "name": "stdout",
          "text": [
            "elapsed_time:1214.2095351219177[sec]\n"
          ]
        }
      ]
    }
  ]
}